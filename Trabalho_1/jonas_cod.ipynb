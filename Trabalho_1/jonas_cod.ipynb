{
 "cells": [
  {
   "cell_type": "code",
   "execution_count": 1,
   "id": "403d3854",
   "metadata": {},
   "outputs": [],
   "source": [
    "import matplotlib\n",
    "matplotlib.use(\"TkAgg\")\n",
    "import matplotlib.pyplot as plt\n",
    "import random\n",
    "import math\n",
    "import sys"
   ]
  },
  {
   "cell_type": "code",
   "execution_count": 2,
   "id": "5ff59fb3",
   "metadata": {},
   "outputs": [],
   "source": [
    "# Parametros \n",
    "TAMANHO_DO_PLANO = 10000\n",
    "QUANT_OBSTACULOS = 50\n",
    "RAIO = 600\n",
    "\n",
    "PONTO_INICIO = (0,0)\n",
    "PONTO_FIM = (TAMANHO_DO_PLANO,TAMANHO_DO_PLANO)\n",
    "\n",
    "mapa_obstaculos = []\n",
    "arestas_globais = []\n"
   ]
  },
  {
   "cell_type": "code",
   "execution_count": 3,
   "id": "a265753c",
   "metadata": {},
   "outputs": [],
   "source": [
    "def encerrar_com_mensagem(ax,mensagem, cor='red'):\n",
    "    ax.text(0.5, 0.5, mensagem, ha='center', va='center', fontsize=16, color=cor, transform=ax.transAxes)\n",
    "    plt.draw()\n",
    "    plt.show(block=True)\n",
    "    sys.exit()\n",
    "\n"
   ]
  },
  {
   "cell_type": "code",
   "execution_count": 4,
   "id": "c933a807",
   "metadata": {},
   "outputs": [],
   "source": [
    "def calcular_distancia(ponto1, ponto2): \n",
    "    return math.sqrt((ponto1[0] - ponto2[0])**2 + (ponto1[1] - ponto2[1])**2) #  é a formula Euclidiana basicamente,  melhor forma pelo que eu vi ( a outra que eu tenti ainda tinha sobreposição na diagonal )\n",
    "\n"
   ]
  },
  {
   "cell_type": "code",
   "execution_count": 5,
   "id": "bfd80812",
   "metadata": {},
   "outputs": [],
   "source": [
    "def verifica_intervalo(ponto_inserido,ponto_verifica):\n",
    "    distancia = calcular_distancia(ponto_inserido,ponto_verifica)\n",
    "    return ((distancia > (RAIO * 2)) | (distancia < 0))\n",
    "\n"
   ]
  },
  {
   "cell_type": "code",
   "execution_count": 6,
   "id": "d0e3bf63",
   "metadata": {},
   "outputs": [],
   "source": [
    "def calcular_laterais(ponto_centro):\n",
    "    ponto_cima = (ponto_centro[0] + RAIO,ponto_centro[1])\n",
    "    ponto_baixo = (ponto_centro[0] - RAIO,ponto_centro[1])\n",
    "    ponto_direito = (ponto_centro[0] ,ponto_centro[1] + RAIO)\n",
    "    ponto_esquerdo = (ponto_centro[0] ,ponto_centro[1] - RAIO)\n",
    "    return  ponto_cima,ponto_baixo,ponto_direito,ponto_esquerdo\n",
    "\n"
   ]
  },
  {
   "cell_type": "code",
   "execution_count": 7,
   "id": "8110accd",
   "metadata": {},
   "outputs": [],
   "source": [
    "def calcular_distancia_reta(r_a, r_b, r_c, c_x, c_y):\n",
    "    cima = abs((r_a * c_x) + (r_b * c_y) + r_c)\n",
    "    baixo = math.sqrt((r_a ** 2) + (r_b ** 2))\n",
    "    return cima / baixo\n",
    "\n",
    "\n"
   ]
  },
  {
   "cell_type": "code",
   "execution_count": 8,
   "id": "620ec7eb",
   "metadata": {},
   "outputs": [],
   "source": [
    "def gerar_obstaculo_existente(novo_centro):\n",
    "    if calcular_distancia(novo_centro, PONTO_INICIO) < RAIO:\n",
    "        return True\n",
    "    if calcular_distancia(novo_centro, PONTO_FIM) < RAIO:\n",
    "        return True\n",
    "    if any(not verifica_intervalo(novo_centro, obstaculo[0]) for obstaculo in mapa_obstaculos):\n",
    "        return True\n",
    "    return False\n",
    "\n"
   ]
  },
  {
   "cell_type": "code",
   "execution_count": 9,
   "id": "4e111bc2",
   "metadata": {},
   "outputs": [],
   "source": [
    "def posicionar_obstaculos():\n",
    "    for _ in range(QUANT_OBSTACULOS):\n",
    "        tentativas = 0\n",
    "        while True:\n",
    "            tentativas += 1\n",
    "            if tentativas >= 1000:\n",
    "                print(f\"Não há mais espaço! Foram posicionados {len(mapa_obstaculos)} obstáculos.\")\n",
    "                return  # Sai do posicionamento, mas mantém os já posicionados\n",
    "            x = random.uniform(RAIO, TAMANHO_DO_PLANO - RAIO)\n",
    "            y = random.uniform(RAIO, TAMANHO_DO_PLANO - RAIO)\n",
    "            novo_centro = (x, y)\n",
    "            if gerar_obstaculo_existente(novo_centro):\n",
    "                continue\n",
    "            mapa_obstaculos.append((novo_centro, calcular_laterais(novo_centro)))\n",
    "            break\n",
    "\n"
   ]
  },
  {
   "cell_type": "code",
   "execution_count": 10,
   "id": "66f29b59",
   "metadata": {},
   "outputs": [],
   "source": [
    "def reta_livre_de_obstaculos(A, B, mapa_obstaculos, raio):\n",
    "    for obstaculo in mapa_obstaculos:\n",
    "        centro = obstaculo[0]\n",
    "        laterais = obstaculo[1]\n",
    "        \n",
    "        # 1. Se A e B são laterais do mesmo círculo, bloqueia\n",
    "        if A in laterais and B in laterais:\n",
    "            return False\n",
    "            \n",
    "        # 2. Coeficientes da reta AB: ax + by + c = 0\n",
    "        r_a = B[1] - A[1]\n",
    "        r_b = A[0] - B[0] \n",
    "        r_c = B[1] * (B[0] - A[0]) - (B[1] - A[1]) * B[0]\n",
    "\n",
    "        # 3. Distância do centro do círculo à reta\n",
    "        dist_reta = calcular_distancia_reta(r_a, r_b, r_c, centro[0], centro[1])\n",
    "        \n",
    "        # 4. Se a distância for menor que o raio, há interseção\n",
    "        if dist_reta < raio:\n",
    "            # 5. Verifica se a interseção está no segmento AB (não na reta infinita)\n",
    "            # Calcula o ponto mais próximo do centro na reta AB\n",
    "            denominador = r_a * r_a + r_b * r_b\n",
    "            if denominador != 0:\n",
    "                px = (r_b * (r_b * centro[0] - r_a * centro[1]) - r_a * r_c) / denominador\n",
    "                py = (r_a * (-r_b * centro[0] + r_a * centro[1]) - r_b * r_c) / denominador\n",
    "                \n",
    "                # Verifica se o ponto projetado está dentro do segmento AB\n",
    "                min_x, max_x = min(A[0], B[0]), max(A[0], B[0])\n",
    "                min_y, max_y = min(A[1], B[1]), max(A[1], B[1])\n",
    "                \n",
    "                if min_x <= px <= max_x and min_y <= py <= max_y:\n",
    "                    return False\n",
    "    return True\n",
    "\n"
   ]
  },
  {
   "cell_type": "code",
   "execution_count": 11,
   "id": "fca74cda",
   "metadata": {},
   "outputs": [],
   "source": [
    "def gerar_arestas():\n",
    "    # Gera todas as arestas válidas e as adiciona aos obstáculos\n",
    "    # Formato: [ponto_centro, [pontos_laterais], [arestas]]\n",
    "    \n",
    "    # Primeiro, inicializa a lista de arestas para cada obstáculo\n",
    "    for i, obstaculo in enumerate(mapa_obstaculos):\n",
    "        if len(obstaculo) == 2:  # Se ainda não tem arestas\n",
    "            mapa_obstaculos[i] = (obstaculo[0], obstaculo[1], [])\n",
    "    \n",
    "    # Arestas do início aos pontos laterais\n",
    "    for obstaculo in mapa_obstaculos:\n",
    "        for ponto_lateral in obstaculo[1]:\n",
    "            if reta_livre_de_obstaculos(PONTO_INICIO, ponto_lateral, mapa_obstaculos, RAIO):\n",
    "                aresta = (PONTO_INICIO, ponto_lateral, 'blue', '--')\n",
    "                arestas_globais.append(aresta)\n",
    "    \n",
    "    # Arestas do fim aos pontos laterais\n",
    "    for obstaculo in mapa_obstaculos:\n",
    "        for ponto_lateral in obstaculo[1]:\n",
    "            if reta_livre_de_obstaculos(PONTO_FIM, ponto_lateral, mapa_obstaculos, RAIO):\n",
    "                aresta = (PONTO_FIM, ponto_lateral, 'red', '--')\n",
    "                arestas_globais.append(aresta)\n",
    "    \n",
    "    # Arestas entre pontos laterais (evita duplicação)\n",
    "    for i, obstaculo_a in enumerate(mapa_obstaculos):\n",
    "        for j, obstaculo_b in enumerate(mapa_obstaculos):\n",
    "            if i >= j:  # Evita duplicação (só processa i < j)\n",
    "                continue\n",
    "            for ponto_lateral_a in obstaculo_a[1]:\n",
    "                for ponto_lateral_b in obstaculo_b[1]:\n",
    "                    if reta_livre_de_obstaculos(ponto_lateral_a, ponto_lateral_b, mapa_obstaculos, RAIO):\n",
    "                        aresta = (ponto_lateral_a, ponto_lateral_b, 'green', '-')\n",
    "                        # Adiciona à lista do primeiro obstáculo\n",
    "                        mapa_obstaculos[i] = (mapa_obstaculos[i][0], mapa_obstaculos[i][1], mapa_obstaculos[i][2] + [aresta])\n",
    "    \n",
    "    # Verifica caminho direto início-fim\n",
    "    if reta_livre_de_obstaculos(PONTO_INICIO, PONTO_FIM, mapa_obstaculos, RAIO):\n",
    "        aresta = (PONTO_INICIO, PONTO_FIM, 'purple', '-')\n",
    "        arestas_globais.append(aresta)\n",
    "\n"
   ]
  },
  {
   "cell_type": "code",
   "execution_count": 12,
   "id": "ec73966f",
   "metadata": {},
   "outputs": [],
   "source": [
    "def caminho_ini_fim():\n",
    "    \"\"\"\n",
    "        Percorre o mapa de obstaculos entre os pontos dos obstaculos, mas caso não tenha obstaculos, faz a linha direta, utilizando o conceito de busca por profundidade    \n",
    "    \"\"\"\n",
    "    \n",
    "    if len(mapa_obstaculos) == 0:\n",
    "        return [PONTO_INICIO, PONTO_FIM]\n",
    "    \n",
    "    # Implementação de busca por profundidade (DFS) para encontrar um caminho\n",
    "    stack = [(PONTO_INICIO, [PONTO_INICIO])]\n",
    "    visited = set()\n",
    "    \n",
    "    while stack:\n",
    "        current, path = stack.pop()\n",
    "        \n",
    "        if current == PONTO_FIM:\n",
    "            return path\n",
    "        \n",
    "        if current in visited:\n",
    "            continue\n",
    "        visited.add(current)\n",
    "        \n",
    "        # Adiciona vizinhos (pontos laterais dos obstáculos conectados)\n",
    "        for obstaculo in mapa_obstaculos:\n",
    "            for ponto_lateral in obstaculo[1]:\n",
    "                if reta_livre_de_obstaculos(current, ponto_lateral, mapa_obstaculos, RAIO):\n",
    "                    stack.append((ponto_lateral, path + [ponto_lateral]))\n",
    "    \n",
    "    return None  # Se não encontrar caminho\n",
    "\n",
    "\n"
   ]
  },
  {
   "cell_type": "code",
   "execution_count": 13,
   "id": "da6deb24",
   "metadata": {},
   "outputs": [],
   "source": [
    "def inicializar_plot():\n",
    "    fig, ax = plt.subplots()\n",
    "    ax.set_xlim(0, TAMANHO_DO_PLANO)\n",
    "    ax.set_ylim(0, TAMANHO_DO_PLANO)\n",
    "    ax.set_aspect('equal')\n",
    "    ax.grid(color='gray', linestyle='--', alpha=0.3)\n",
    "    ax.axhline(0, color='white', linewidth=0.5)\n",
    "    ax.axvline(0, color='white', linewidth=0.5)\n",
    "    ax.plot(PONTO_INICIO[0], PONTO_INICIO[1], 'go', markersize=10, label='Início')\n",
    "    ax.plot(PONTO_FIM[0], PONTO_FIM[1], 'ro', markersize=10, label='Fim')\n",
    "    \n",
    "    # Opção 2: Colocar fora da figura (à direita)\n",
    "    ax.legend(loc='upper left', bbox_to_anchor=(1.02, 1.0), frameon=True)\n",
    "    plt.tight_layout()  # Ajusta automaticamente para não cortar\n",
    "    \n",
    "    return fig, ax\n"
   ]
  },
  {
   "cell_type": "code",
   "execution_count": 17,
   "id": "fb8ea5bb",
   "metadata": {},
   "outputs": [],
   "source": [
    "def plotar_arestas(ax):\n",
    "    # Plota arestas globais (início/fim)\n",
    "    for aresta in arestas_globais:\n",
    "        ponto_a, ponto_b, cor, estilo = aresta\n",
    "        ax.plot([ponto_a[0], ponto_b[0]], [ponto_a[1], ponto_b[1]], \n",
    "                color=cor, linestyle=estilo)\n",
    "    \n",
    "    # Plota arestas dos obstáculos\n",
    "    for obstaculo in mapa_obstaculos:\n",
    "        if len(obstaculo) > 2:  # Se tem arestas\n",
    "            for aresta in obstaculo[2]:\n",
    "                ponto_a, ponto_b, cor, estilo = aresta\n",
    "                ax.plot([ponto_a[0], ponto_b[0]], [ponto_a[1], ponto_b[1]], \n",
    "                        color=cor, linestyle=estilo)"
   ]
  },
  {
   "cell_type": "code",
   "execution_count": 18,
   "id": "88c30f6c",
   "metadata": {},
   "outputs": [],
   "source": [
    "def plotar_obstaculos():\n",
    "    # Inicializa o plot com início e fim\n",
    "    _,ax = inicializar_plot()\n",
    "    \n",
    "    # Desenha todos os obstáculos\n",
    "    for obstaculo in mapa_obstaculos:\n",
    "        circulo = plt.Circle(obstaculo[0], RAIO, color=\"gray\", alpha=0.7)\n",
    "        for ponto in obstaculo[1]:\n",
    "            ax.plot(ponto[0], ponto[1], 'o', markersize=2, color=\"black\")\n",
    "        ax.add_patch(circulo)\n",
    "    \n",
    "    plotar_arestas(ax)\n",
    "    \n",
    "    plt.title('Mapa de Obstáculos')\n",
    "    plt.show()\n",
    "\n"
   ]
  },
  {
   "cell_type": "code",
   "execution_count": 19,
   "id": "188825fb",
   "metadata": {},
   "outputs": [
    {
     "name": "stdout",
     "output_type": "stream",
     "text": [
      "Não há mais espaço! Foram posicionados 44 obstáculos.\n",
      "Posicionados 44 obstáculos\n"
     ]
    }
   ],
   "source": [
    "def main():\n",
    "    posicionar_obstaculos()\n",
    "    gerar_arestas()\n",
    "    print(f\"Posicionados {len(mapa_obstaculos)} obstáculos\")\n",
    "    plotar_obstaculos()\n",
    "\n",
    "if __name__ == \"__main__\":\n",
    "    main()"
   ]
  }
 ],
 "metadata": {
  "kernelspec": {
   "display_name": ".conda",
   "language": "python",
   "name": "python3"
  },
  "language_info": {
   "codemirror_mode": {
    "name": "ipython",
    "version": 3
   },
   "file_extension": ".py",
   "mimetype": "text/x-python",
   "name": "python",
   "nbconvert_exporter": "python",
   "pygments_lexer": "ipython3",
   "version": "3.11.13"
  }
 },
 "nbformat": 4,
 "nbformat_minor": 5
}
