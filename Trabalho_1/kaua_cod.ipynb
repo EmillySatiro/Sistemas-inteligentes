{
 "cells": [
  {
   "cell_type": "code",
   "execution_count": 47,
   "id": "698f2afb",
   "metadata": {},
   "outputs": [
    {
     "name": "stdout",
     "output_type": "stream",
     "text": [
      "Note: you may need to restart the kernel to use updated packages.\n"
     ]
    },
    {
     "name": "stderr",
     "output_type": "stream",
     "text": [
      "\n",
      "[notice] A new release of pip is available: 25.1.1 -> 25.2\n",
      "[notice] To update, run: python.exe -m pip install --upgrade pip\n"
     ]
    }
   ],
   "source": [
    "%pip install matplotlib --quiet"
   ]
  },
  {
   "cell_type": "code",
   "execution_count": 48,
   "id": "e80074fe",
   "metadata": {},
   "outputs": [],
   "source": [
    "import matplotlib.pyplot as plt\n",
    "from matplotlib.patches import Arc\n",
    "import numpy as np\n",
    "import pickle\n",
    "import shutil\n",
    "import random\n",
    "import os"
   ]
  },
  {
   "cell_type": "code",
   "execution_count": 49,
   "id": "ced0d396",
   "metadata": {},
   "outputs": [],
   "source": [
    "# %matplotlib tk\n",
    "%matplotlib inline"
   ]
  },
  {
   "cell_type": "code",
   "execution_count": 50,
   "id": "d2dc42ab",
   "metadata": {},
   "outputs": [],
   "source": [
    "shutil.rmtree('criacao_base', ignore_errors=True)\n",
    "os.makedirs('criacao_base', exist_ok=True)"
   ]
  },
  {
   "cell_type": "code",
   "execution_count": 51,
   "id": "c5afb9bd",
   "metadata": {},
   "outputs": [],
   "source": [
    "tamanho = (500, 500)\n",
    "ponto_inicial_final = (0, 0), tamanho\n",
    "raio_size = 25\n",
    "visual_s = 5\n",
    "qtd_centroides = 5\n",
    "paciencia = 10"
   ]
  },
  {
   "cell_type": "code",
   "execution_count": 52,
   "id": "327549a5",
   "metadata": {},
   "outputs": [],
   "source": [
    "def posicoes_circulos(x, y, raio_size):\n",
    "    valor_baixo = (x, y - raio_size)\n",
    "    valor_cima = (x, y + raio_size)\n",
    "    valor_esquerda = (x - raio_size, y)\n",
    "    valor_direita = (x + raio_size, y)\n",
    "    return valor_baixo, valor_cima, valor_esquerda, valor_direita"
   ]
  },
  {
   "cell_type": "code",
   "execution_count": 53,
   "id": "9c77df86",
   "metadata": {},
   "outputs": [],
   "source": [
    "def salvar_fig_ax(fig, ax, caminho='criacao_base/'):\n",
    "    with open(f\"{caminho}.pkl\", \"wb\") as f:\n",
    "        pickle.dump((fig, ax), f)\n",
    "\n",
    "def abrir_fig_ax(caminho='criacao_base/'):\n",
    "    with open(f\"{caminho}.pkl\", \"rb\") as f:\n",
    "        fig, ax = pickle.load(f)\n",
    "    return fig, ax"
   ]
  },
  {
   "cell_type": "code",
   "execution_count": 54,
   "id": "da3a1bdd",
   "metadata": {},
   "outputs": [],
   "source": [
    "def exibir_figura(figura, wait=False, pause=False, save=False, show=False):\n",
    "    if wait:\n",
    "        plt.waitforbuttonpress()\n",
    "    if pause:\n",
    "        plt.pause(0.001)\n",
    "    if show:\n",
    "        figura.show()\n",
    "    if save:\n",
    "        figura.savefig(\"criacao_basefigura.png\")\n",
    "\n",
    "def inserir_circulo_img(ax, x, y, raio_size, visual_s, color_centro, color_ext):\n",
    "    posicoes = posicoes_circulos(x, y, raio_size)\n",
    "    valores_adicionados = []\n",
    "    [valores_adicionados.append(ax.scatter(*posicao, color=color_ext, s=visual_s)) for posicao in posicoes]\n",
    "    valores_adicionados.append(ax.scatter(x, y, color=color_centro, s=visual_s))\n",
    "    valores_adicionados.append(plt.Circle((x, y), raio_size, color=color_ext, fill=False))\n",
    "    ax.add_patch(valores_adicionados[-1])\n",
    "    return valores_adicionados, posicoes"
   ]
  },
  {
   "cell_type": "code",
   "execution_count": 55,
   "id": "961059c8",
   "metadata": {},
   "outputs": [
    {
     "data": {
      "image/png": "[encoded data removed]",
      "text/plain": [
       "<Figure size 400x400 with 1 Axes>"
      ]
     },
     "metadata": {},
     "output_type": "display_data"
    }
   ],
   "source": [
    "fig, ax = plt.subplots(figsize=(4, 4), dpi=100)\n",
    "ax.scatter(*ponto_inicial_final[0], color='green', s=visual_s)\n",
    "ax.scatter(*ponto_inicial_final[1], color='red', s=visual_s);\n",
    "salvar_fig_ax(fig, ax)"
   ]
  },
  {
   "cell_type": "code",
   "execution_count": 56,
   "id": "5a021bea",
   "metadata": {},
   "outputs": [
    {
     "data": {
      "image/png": "[encoded data removed]",
      "text/plain": [
       "<Figure size 400x400 with 1 Axes>"
      ]
     },
     "metadata": {},
     "output_type": "display_data"
    }
   ],
   "source": [
    "fig, ax = abrir_fig_ax()\n",
    "\n",
    "centroids = []\n",
    "posicoes_centroides = []\n",
    "\n",
    "interacao_atual = 0\n",
    "paciencia_atual = 0\n",
    "\n",
    "def distancia_euclidiana(ponto1, ponto2):\n",
    "    x1, y1 = ponto1\n",
    "    x2, y2 = ponto2\n",
    "    return ((x2 - x1) ** 2 + (y2 - y1) ** 2) ** 0.5\n",
    "\n",
    "def verificar_distancia(x1, y1, x2, y2, raio_size) -> bool:\n",
    "    return distancia_euclidiana((x1, y1), (x2, y2)) < 2 * raio_size\n",
    "\n",
    "while len(centroids) < qtd_centroides and paciencia_atual < paciencia:\n",
    "\n",
    "    interacao_atual += 1\n",
    "    paciencia_atual += 1\n",
    "    \n",
    "    x = random.randint(raio_size, tamanho[0] - raio_size)\n",
    "    y = random.randint(raio_size, tamanho[1] - raio_size)\n",
    "\n",
    "    if verificar_distancia(x, y, *ponto_inicial_final[0], raio_size):\n",
    "        # print(f'Ponto ({x}, {y}) está dentro da área de influência do ponto inicial.')\n",
    "        ...\n",
    "    elif verificar_distancia(x, y, *ponto_inicial_final[1], raio_size):\n",
    "        # print(f'Ponto ({x}, {y}) está dentro da área de influência do ponto final.')\n",
    "        ...\n",
    "    elif any(verificar_distancia(centroid[0], centroid[1], x, y, raio_size) for centroid in centroids):\n",
    "        # print(f'Ponto ({x}, {y}) está dentro da área de influência de um dos centroides já criados.')\n",
    "        ...\n",
    "    else:\n",
    "        _, posicao_circulo = inserir_circulo_img(ax, x, y, raio_size, visual_s, 'blue', 'black')\n",
    "        centroids.append((x, y))\n",
    "        posicoes_centroides.append(posicao_circulo)\n",
    "        paciencia_atual = 0\n",
    "    \n",
    "salvar_fig_ax(fig, ax)"
   ]
  },
  {
   "cell_type": "code",
   "execution_count": 57,
   "id": "dd039d2e",
   "metadata": {},
   "outputs": [
    {
     "data": {
      "text/plain": [
       "0"
      ]
     },
     "execution_count": 57,
     "metadata": {},
     "output_type": "execute_result"
    }
   ],
   "source": [
    "paciencia_atual"
   ]
  },
  {
   "cell_type": "code",
   "execution_count": 58,
   "id": "8f0e7df5",
   "metadata": {},
   "outputs": [
    {
     "name": "stdout",
     "output_type": "stream",
     "text": [
      "Coeficientes da reta entre (0, 0) e (1, 1): a = -1, b = 1, c = 0\n",
      "Equação da reta: -1x + 1y + 0 = 0\n",
      "Forma reduzida: y = 1.0x + 0.0\n"
     ]
    }
   ],
   "source": [
    "def coeficientes_reta(ponto_inicial, ponto_final):\n",
    "    \"\"\"\n",
    "    Calcula os coeficientes da equação da reta que passa pelos pontos iniciais e finais.\n",
    "    a -> coeficiente angular (inclinação)\n",
    "    b -> coeficiente linear (intercepto)\n",
    "    c -> termo constante\n",
    "\n",
    "    link do exemplo: https://www.todamateria.com.br/equacao-da-reta/\n",
    "    link da video aula: https://www.youtube.com/watch?v=9dhtGUPgekw\n",
    "\n",
    "    é possivel transformar a equação da reta na forma y = mx + b, onde m é o coeficiente angular e b é o coeficiente linear.\n",
    "    \n",
    "    p1 = (-1, 8)\n",
    "    p2 = (-5, -1)\n",
    "\n",
    "    exemplo: \n",
    "    a = 9\n",
    "    b = -4\n",
    "    c = 41\n",
    "    \"\"\"\n",
    "    \n",
    "    a = (ponto_inicial[1] - ponto_final[1])\n",
    "    b = (ponto_final[0] - ponto_inicial[0])\n",
    "    c = (ponto_final[1] * ponto_inicial[0]) - (ponto_final[0] * ponto_inicial[1])\n",
    "    return a, b, c\n",
    "\n",
    "A = (0, 0)\n",
    "B = (1, 1)\n",
    "a, b, c = coeficientes_reta(A, B)\n",
    "\n",
    "\n",
    "print(f\"Coeficientes da reta entre {A} e {B}: a = {a}, b = {b}, c = {c}\")\n",
    "print(f\"Equação da reta: {a}x + {b}y + {c} = 0\")\n",
    "print(f\"Forma reduzida: y = {-a/b}x + {-c/b}\")"
   ]
  },
  {
   "cell_type": "code",
   "execution_count": 59,
   "id": "ac4156ae",
   "metadata": {},
   "outputs": [
    {
     "name": "stdout",
     "output_type": "stream",
     "text": [
      "Distancia usando 0.0\n"
     ]
    }
   ],
   "source": [
    "def distancia_ponto_reta(novo_ponto, a, b, c):\n",
    "    \"\"\"\n",
    "    Calcula a distância do ponto (novo_ponto) à reta definida pelos coeficientes a, b e c.\n",
    "    A fórmula é dada por: |ax + by + c| / sqrt(a^2 + b^2)\n",
    "\n",
    "    Link exemplo: https://www.todamateria.com.br/distancia-entre-dois-pontos/\n",
    "    Link video aula: https://www.youtube.com/watch?v=FSfwY1fM4EI\n",
    "    \n",
    "    Por que não usar a formula: \n",
    "    '\n",
    "    distancia_x = x2 - x1\n",
    "    distancia_y = y2 - y1\n",
    "    distancia_euclidiana = (distancia_x ** 2 + distancia_y ** 2) ** 0.5\n",
    "    '\n",
    "\n",
    "    Motivo: \n",
    "    A fórmula da distância entre dois pontos é uma medida direta da distância euclidiana, \n",
    "    que é a mais comum em um espaço cartesiano. No entanto, quando se trata de calcular a distância de um ponto a uma linha,\n",
    "    a fórmula da linha é mais apropriada, pois leva em consideração a inclinação da linha e a posição do ponto em relação a ela.\n",
    "    \n",
    "    Falando de forma informal: \n",
    "    Eles medem coisas diferentes. A distância ponto-reta nunca vai ser a mesma que a distância entre dois pontos específicos, porque:\n",
    "    Uma compara ponto com ponto, A outra compara ponto com linha infinita.\n",
    "\n",
    "    \"\"\"\n",
    "    divisor = ((a**2 + b**2) ** 0.5)\n",
    "    if divisor == 0:\n",
    "        raise ZeroDivisionError(\"Não é uma reta válida, mas sim o plano inteiro ou um conjunto vazio logo não é possível calcular a distância.\")\n",
    "    return abs(a * novo_ponto[0] + b * novo_ponto[1] + c) / divisor\n",
    "\n",
    "print(f\"Distancia usando {distancia_ponto_reta((2, 2), *coeficientes_reta(A, B))}\")"
   ]
  },
  {
   "cell_type": "code",
   "execution_count": 60,
   "id": "83dbba62",
   "metadata": {},
   "outputs": [],
   "source": [
    "def projecao_no_segmento(p: tuple[int, int], a: int, b: int, c: int, p1: tuple[int, int], p2: tuple[int, int]) -> tuple[float, float] | None:\n",
    "    \"\"\"\n",
    "    Retorna a projeção ortogonal do ponto p sobre a reta definida por (a, b, c),\n",
    "    mas somente se a projeção cair dentro do segmento [p1, p2].\n",
    "    Caso contrário, retorna None.\n",
    "    \n",
    "    link aula: https://www.youtube.com/watch?v=fem35PVZjeA\n",
    "    link solução:  https://en.wikipedia.org/wiki/Distance_from_a_point_to_a_line\n",
    "    \n",
    "\n",
    "    oque é o denominador?\n",
    "    O denominador é a soma dos quadrados dos coeficientes a e b da reta.\n",
    "    Ele é usado para calcular as coordenadas da projeção ortogonal do ponto p na reta.\n",
    "    Se o denominador for zero, significa que a reta é vertical (ou seja, a = 0 e b = 0), e a projeção não pode ser calculada.\n",
    "    \n",
    "    Falando de forma leiga:\n",
    "    Estamos trabalhando com sombras, onde a reta é a superfície e o ponto p é a fonte de luz. A projeção ortogonal é a \"sombra\" do ponto p na reta.\n",
    "    Isso significa que estamos tentando encontrar o ponto na reta que está diretamente abaixo do ponto p, como se estivéssemos projetando a luz do ponto p na reta.\n",
    "    \"\"\"\n",
    "    x, y = p\n",
    "    denominador = a*a + b*b\n",
    "    if denominador == 0:\n",
    "        raise ValueError(\"Coeficientes inválidos para reta.\")\n",
    "\n",
    "    px = (b * (b*x - a*y) - a*c) / denominador\n",
    "    py = (a * (-b*x + a*y) - b*c) / denominador\n",
    "\n",
    "    # Verifica se a projeção está dentro do segmento\n",
    "    min_x, max_x = min(p1[0], p2[0]), max(p1[0], p2[0])\n",
    "    min_y, max_y = min(p1[1], p2[1]), max(p1[1], p2[1])\n",
    "\n",
    "    if abs(px - x) < 1e-9 and abs(py - y) < 1e-9:\n",
    "        return None\n",
    "\n",
    "    if min_x <= px <= max_x and min_y <= py <= max_y:\n",
    "        return px, py\n",
    "    return None\n"
   ]
  },
  {
   "cell_type": "code",
   "execution_count": 61,
   "id": "cf9c73bc",
   "metadata": {},
   "outputs": [],
   "source": [
    "def reta_entre_dois_pontos(centroids: list[tuple], novo_ponto: tuple[int, int], novo_destino: tuple[int, int]):\n",
    "  \"\"\"\n",
    "  Verifica se é possivel ter uma reta entre dois pontos sem que um centróide a intercepte.\n",
    "\n",
    "  \"\"\"\n",
    "  a, b, c = coeficientes_reta(novo_ponto, novo_destino)\n",
    "  for centroid in centroids:\n",
    "    \n",
    "    try:\n",
    "      distancia = distancia_ponto_reta(centroid, a, b, c)\n",
    "    except ZeroDivisionError:\n",
    "      return False\n",
    "    \n",
    "    if distancia < raio_size:\n",
    "        if (centroid[0] - novo_ponto[0]) * (novo_destino[1] - novo_ponto[1]) == (centroid[1] - novo_ponto[1]) * (novo_destino[0] - novo_ponto[0]):\n",
    "            # print(\"Centróide está na reta\")\n",
    "            return False\n",
    "\n",
    "        if projecao_no_segmento(centroid, a, b, c, novo_ponto, novo_destino):\n",
    "            # print(\"Centróide está na projeção da reta\")\n",
    "            return False\n",
    "\n",
    "  return True"
   ]
  },
  {
   "cell_type": "code",
   "execution_count": 62,
   "id": "88eee369",
   "metadata": {},
   "outputs": [],
   "source": [
    "retas = []\n",
    "\n",
    "todos_pontos = [ponto_inicial_final[0]]\n",
    "for x in range(len(posicoes_centroides)):\n",
    "    for y in range(len(posicoes_centroides[x])):\n",
    "        todos_pontos.append(posicoes_centroides[x][y])\n",
    "todos_pontos.append(ponto_inicial_final[1])\n",
    "\n",
    "for i in range(len(todos_pontos)):\n",
    "    for j in range(i+1, len(todos_pontos)):\n",
    "        if reta_entre_dois_pontos(centroids, todos_pontos[i], todos_pontos[j]):\n",
    "            retas.append((todos_pontos[i], todos_pontos[j]))"
   ]
  },
  {
   "cell_type": "code",
   "execution_count": 63,
   "id": "dd9aad61",
   "metadata": {},
   "outputs": [
    {
     "data": {
      "text/plain": [
       "[((212, 86), (212, 136), (187, 111), (237, 111)),\n",
       " ((270, 396), (270, 446), (245, 421), (295, 421)),\n",
       " ((51, 58), (51, 108), (26, 83), (76, 83)),\n",
       " ((294, 194), (294, 244), (269, 219), (319, 219)),\n",
       " ((281, 271), (281, 321), (256, 296), (306, 296))]"
      ]
     },
     "execution_count": 63,
     "metadata": {},
     "output_type": "execute_result"
    }
   ],
   "source": [
    "posicoes_centroides"
   ]
  },
  {
   "cell_type": "code",
   "execution_count": 64,
   "id": "0c29fbf4",
   "metadata": {},
   "outputs": [
    {
     "name": "stdout",
     "output_type": "stream",
     "text": [
      "Total de pontos: 22\n",
      "Total de retas criadas: 39\n"
     ]
    },
    {
     "data": {
      "image/png": "[encoded data removed]",
      "text/plain": [
       "<Figure size 400x400 with 1 Axes>"
      ]
     },
     "metadata": {},
     "output_type": "display_data"
    }
   ],
   "source": [
    "fig, ax = abrir_fig_ax()\n",
    "\n",
    "retas_desenhadas = []\n",
    "for reta in retas:\n",
    "    retas_desenhadas.append(ax.plot(*zip(*reta), color='black'))\n",
    "\n",
    "print(f\"Total de pontos: {len(todos_pontos)}\")\n",
    "print(f\"Total de retas criadas: {len(retas)}\")\n",
    "\n",
    "salvar_fig_ax(fig, ax)"
   ]
  },
  {
   "cell_type": "code",
   "execution_count": 65,
   "id": "b8fda5eb",
   "metadata": {},
   "outputs": [
    {
     "data": {
      "text/plain": [
       "[((0, 0), (212, 86)),\n",
       " ((0, 0), (187, 111)),\n",
       " ((0, 0), (51, 58)),\n",
       " ((0, 0), (26, 83)),\n",
       " ((0, 0), (269, 219)),\n",
       " ((212, 86), (76, 83)),\n",
       " ((212, 136), (270, 396)),\n",
       " ((212, 136), (245, 421)),\n",
       " ((212, 136), (294, 194)),\n",
       " ((212, 136), (269, 219)),\n",
       " ((212, 136), (281, 271)),\n",
       " ((212, 136), (256, 296)),\n",
       " ((187, 111), (51, 108)),\n",
       " ((187, 111), (76, 83)),\n",
       " ((237, 111), (245, 421)),\n",
       " ((237, 111), (294, 194)),\n",
       " ((237, 111), (269, 219)),\n",
       " ((237, 111), (281, 271)),\n",
       " ((237, 111), (256, 296)),\n",
       " ((270, 396), (51, 108)),\n",
       " ((270, 396), (76, 83)),\n",
       " ((270, 396), (281, 321)),\n",
       " ((270, 446), (500, 500)),\n",
       " ((245, 421), (51, 108)),\n",
       " ((245, 421), (76, 83)),\n",
       " ((295, 421), (500, 500)),\n",
       " ((51, 108), (294, 194)),\n",
       " ((51, 108), (269, 219)),\n",
       " ((51, 108), (281, 271)),\n",
       " ((51, 108), (256, 296)),\n",
       " ((76, 83), (294, 194)),\n",
       " ((76, 83), (269, 219)),\n",
       " ((76, 83), (281, 271)),\n",
       " ((76, 83), (256, 296)),\n",
       " ((294, 244), (281, 271)),\n",
       " ((294, 244), (500, 500)),\n",
       " ((319, 219), (500, 500)),\n",
       " ((281, 321), (500, 500)),\n",
       " ((306, 296), (500, 500)),\n",
       " ((212, 86), (187, 111)),\n",
       " ((212, 86), (237, 111)),\n",
       " ((212, 136), (187, 111)),\n",
       " ((212, 136), (237, 111)),\n",
       " ((270, 396), (245, 421)),\n",
       " ((270, 396), (295, 421)),\n",
       " ((270, 446), (245, 421)),\n",
       " ((270, 446), (295, 421)),\n",
       " ((51, 58), (26, 83)),\n",
       " ((51, 58), (76, 83)),\n",
       " ((51, 108), (26, 83)),\n",
       " ((51, 108), (76, 83)),\n",
       " ((294, 194), (269, 219)),\n",
       " ((294, 194), (319, 219)),\n",
       " ((294, 244), (269, 219)),\n",
       " ((294, 244), (319, 219)),\n",
       " ((281, 271), (256, 296)),\n",
       " ((281, 271), (306, 296)),\n",
       " ((281, 321), (256, 296)),\n",
       " ((281, 321), (306, 296))]"
      ]
     },
     "execution_count": 65,
     "metadata": {},
     "output_type": "execute_result"
    }
   ],
   "source": [
    "for (cima, baixo, esq, dir) in posicoes_centroides:\n",
    "    retas.append((cima, esq))\n",
    "    retas.append((cima, dir))\n",
    "    retas.append((baixo, esq))\n",
    "    retas.append((baixo, dir))\n",
    "retas"
   ]
  },
  {
   "cell_type": "code",
   "execution_count": 66,
   "id": "b1b907ec",
   "metadata": {},
   "outputs": [
    {
     "name": "stdout",
     "output_type": "stream",
     "text": [
      "Reta: (0, 0), Pontos: {(269, 219), (51, 58), (26, 83), (212, 86), (187, 111)}\n",
      "Reta: (212, 86), Pontos: {(187, 111), (76, 83), (237, 111)}\n",
      "Reta: (212, 136), Pontos: {(281, 271), (294, 194), (270, 396), (269, 219), (256, 296), (245, 421), (237, 111), (187, 111)}\n",
      "Reta: (187, 111), Pontos: {(76, 83), (51, 108)}\n",
      "Reta: (237, 111), Pontos: {(281, 271), (294, 194), (269, 219), (256, 296), (245, 421)}\n",
      "Reta: (270, 396), Pontos: {(295, 421), (51, 108), (245, 421), (281, 321), (76, 83)}\n",
      "Reta: (270, 446), Pontos: {(295, 421), (245, 421), (500, 500)}\n",
      "Reta: (245, 421), Pontos: {(76, 83), (51, 108)}\n",
      "Reta: (295, 421), Pontos: {(500, 500)}\n",
      "Reta: (51, 108), Pontos: {(281, 271), (294, 194), (269, 219), (256, 296), (26, 83), (76, 83)}\n",
      "Reta: (76, 83), Pontos: {(281, 271), (294, 194), (256, 296), (269, 219)}\n",
      "Reta: (294, 244), Pontos: {(319, 219), (281, 271), (269, 219), (500, 500)}\n",
      "Reta: (319, 219), Pontos: {(500, 500)}\n",
      "Reta: (281, 321), Pontos: {(306, 296), (256, 296), (500, 500)}\n",
      "Reta: (306, 296), Pontos: {(500, 500)}\n",
      "Reta: (51, 58), Pontos: {(26, 83), (76, 83)}\n",
      "Reta: (294, 194), Pontos: {(319, 219), (269, 219)}\n",
      "Reta: (281, 271), Pontos: {(306, 296), (256, 296)}\n"
     ]
    }
   ],
   "source": [
    "pontos_unicos = {}\n",
    "for reta in retas:\n",
    "  pontos_unicos.setdefault(reta[0], set()).add(reta[1])\n",
    "  \n",
    "for key, value in pontos_unicos.items():\n",
    "  print(f\"Reta: {key}, Pontos: {value}\")"
   ]
  },
  {
   "cell_type": "code",
   "execution_count": 67,
   "id": "81710c4c",
   "metadata": {},
   "outputs": [
    {
     "data": {
      "text/plain": [
       "True"
      ]
     },
     "execution_count": 67,
     "metadata": {},
     "output_type": "execute_result"
    }
   ],
   "source": [
    "ponto_inicial = ponto_inicial_final[0]\n",
    "ponto_final = ponto_inicial_final[1]\n",
    "possibilidade_atual = pontos_unicos[ponto_inicial]\n",
    "\n",
    "def encontrar_possibilidades(ponto_atual, ponto_final, pilha=[]):\n",
    "    pilha.append(ponto_atual)\n",
    "    if ponto_atual == ponto_final:\n",
    "        return True\n",
    "    for prox_ponto in pontos_unicos.get(ponto_atual, []):\n",
    "        if encontrar_possibilidades(prox_ponto, ponto_final, pilha):\n",
    "            return True\n",
    "    pilha.pop()\n",
    "    return False\n",
    "\n",
    "\n",
    "pilha = []\n",
    "encontrar_possibilidades(ponto_inicial, ponto_final, pilha)"
   ]
  },
  {
   "cell_type": "code",
   "execution_count": 68,
   "id": "1d63ad80",
   "metadata": {},
   "outputs": [],
   "source": [
    "def ponto_mesmo_centroid(ponto1, ponto2, centroids, raio_size):\n",
    "    \"\"\"\n",
    "    Verifica se ambos os pontos pertencem ao mesmo centróide.\n",
    "    \"\"\"\n",
    "    centroid_ponto1 = None\n",
    "    centroid_ponto2 = None\n",
    "    \n",
    "    for i, centroid in enumerate(centroids):\n",
    "        if distancia_euclidiana(ponto1, centroid) <= raio_size:\n",
    "            centroid_ponto1 = i\n",
    "            break\n",
    "    \n",
    "    for i, centroid in enumerate(centroids):\n",
    "        if distancia_euclidiana(ponto2, centroid) <= raio_size:\n",
    "            centroid_ponto2 = i\n",
    "            break\n",
    "    \n",
    "    mesmo = centroid_ponto1 is not None and centroid_ponto1 == centroid_ponto2\n",
    "    if not mesmo:\n",
    "        return False, None, None\n",
    "    return mesmo, centroids[centroid_ponto1], centroids[centroid_ponto2]"
   ]
  },
  {
   "cell_type": "code",
   "execution_count": 71,
   "id": "ea550d30",
   "metadata": {},
   "outputs": [
    {
     "data": {
      "image/png": "[encoded data removed]",
      "text/plain": [
       "<Figure size 400x400 with 1 Axes>"
      ]
     },
     "metadata": {},
     "output_type": "display_data"
    }
   ],
   "source": [
    "fig, ax = abrir_fig_ax()\n",
    "for i in range(len(pilha) - 1):\n",
    "    ponto1 = pilha[i]\n",
    "    ponto2 = pilha[i + 1]\n",
    "\n",
    "    mesmo_centro, centroid, _ = ponto_mesmo_centroid(ponto1, ponto2, centroids, raio_size)\n",
    "    if mesmo_centro:\n",
    "        angulo1 = np.degrees(np.arctan2(ponto1[1] - centroid[1], ponto1[0] - centroid[0]))\n",
    "        angulo2 = np.degrees(np.arctan2(ponto2[1] - centroid[1], ponto2[0] - centroid[0]))\n",
    "        arco = Arc(centroid, width=2*raio_size, height=2*raio_size, theta1=angulo1, theta2=angulo2, color=\"green\", linewidth=2)\n",
    "        ax.add_patch(arco)\n",
    "    else:\n",
    "        ax.plot([ponto1[0], ponto2[0]], [ponto1[1], ponto2[1]], color='red', linewidth=2)"
   ]
  }
 ],
 "metadata": {
  "kernelspec": {
   "display_name": ".venv (3.13.5)",
   "language": "python",
   "name": "python3"
  },
  "language_info": {
   "codemirror_mode": {
    "name": "ipython",
    "version": 3
   },
   "file_extension": ".py",
   "mimetype": "text/x-python",
   "name": "python",
   "nbconvert_exporter": "python",
   "pygments_lexer": "ipython3",
   "version": "3.13.5"
  }
 },
 "nbformat": 4,
 "nbformat_minor": 5
}
