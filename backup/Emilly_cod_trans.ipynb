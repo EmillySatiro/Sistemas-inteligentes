{
 "cells": [
  {
   "cell_type": "code",
   "execution_count": 378,
   "id": "698f2afb",
   "metadata": {},
   "outputs": [
    {
     "name": "stdout",
     "output_type": "stream",
     "text": [
      "Note: you may need to restart the kernel to use updated packages.\n"
     ]
    },
    {
     "name": "stderr",
     "output_type": "stream",
     "text": [
      "\n",
      "[notice] A new release of pip is available: 25.1.1 -> 25.2\n",
      "[notice] To update, run: python.exe -m pip install --upgrade pip\n"
     ]
    }
   ],
   "source": [
    "%pip install matplotlib --quiet"
   ]
  },
  {
   "cell_type": "code",
   "execution_count": 379,
   "id": "e80074fe",
   "metadata": {},
   "outputs": [],
   "source": [
    "import matplotlib.pyplot as plt\n",
    "from matplotlib.patches import Arc\n",
    "import numpy as np\n",
    "import pickle\n",
    "import shutil\n",
    "import random\n",
    "import os"
   ]
  },
  {
   "cell_type": "code",
   "execution_count": 380,
   "id": "ced0d396",
   "metadata": {},
   "outputs": [],
   "source": [
    "%matplotlib tk\n",
    "# %matplotlib inline"
   ]
  },
  {
   "cell_type": "code",
   "execution_count": 381,
   "id": "d2dc42ab",
   "metadata": {},
   "outputs": [],
   "source": [
    "shutil.rmtree('criacao_base', ignore_errors=True)\n",
    "os.makedirs('criacao_base', exist_ok=True)"
   ]
  },
  {
   "cell_type": "code",
   "execution_count": 382,
   "id": "c5afb9bd",
   "metadata": {},
   "outputs": [],
   "source": [
    "tamanho = (100, 100)\n",
    "ponto_inicial_final = (0, 0), tamanho\n",
    "raio_size = 10\n",
    "visual_s = 5\n",
    "qtd_centroides = 10\n",
    "paciencia = 10"
   ]
  },
  {
   "cell_type": "code",
   "execution_count": 383,
   "id": "327549a5",
   "metadata": {},
   "outputs": [],
   "source": [
    "def posicoes_circulos(x, y, raio_size):\n",
    "    valor_baixo = (x, y - raio_size)\n",
    "    valor_cima = (x, y + raio_size)\n",
    "    valor_esquerda = (x - raio_size, y)\n",
    "    valor_direita = (x + raio_size, y)\n",
    "    return valor_baixo, valor_cima, valor_esquerda, valor_direita"
   ]
  },
  {
   "cell_type": "code",
   "execution_count": 384,
   "id": "9c77df86",
   "metadata": {},
   "outputs": [],
   "source": [
    "def salvar_fig_ax(fig, ax, caminho='criacao_base/'):\n",
    "    with open(f\"{caminho}.pkl\", \"wb\") as f:\n",
    "        pickle.dump((fig, ax), f)\n",
    "\n",
    "def abrir_fig_ax(caminho='criacao_base/'):\n",
    "    with open(f\"{caminho}.pkl\", \"rb\") as f:\n",
    "        fig, ax = pickle.load(f)\n",
    "    return fig, ax"
   ]
  },
  {
   "cell_type": "code",
   "execution_count": 385,
   "id": "da3a1bdd",
   "metadata": {},
   "outputs": [],
   "source": [
    "def exibir_figura(figura, wait=False, pause=False, save=False, show=False):\n",
    "    if wait:\n",
    "        plt.waitforbuttonpress()\n",
    "    if pause:\n",
    "        plt.pause(0.001)\n",
    "    if show:\n",
    "        figura.show()\n",
    "    if save:\n",
    "        figura.savefig(\"criacao_basefigura.png\")\n",
    "\n",
    "def inserir_circulo_img(ax, x, y, raio_size, visual_s, color_centro, color_ext):\n",
    "    posicoes = posicoes_circulos(x, y, raio_size)\n",
    "    valores_adicionados = []\n",
    "    [valores_adicionados.append(ax.scatter(*posicao, color=color_ext, s=visual_s)) for posicao in posicoes]\n",
    "    valores_adicionados.append(ax.scatter(x, y, color=color_centro, s=visual_s))\n",
    "    valores_adicionados.append(plt.Circle((x, y), raio_size, color=color_ext, fill=False))\n",
    "    ax.add_patch(valores_adicionados[-1])\n",
    "    return valores_adicionados, posicoes"
   ]
  },
  {
   "cell_type": "code",
   "execution_count": 386,
   "id": "961059c8",
   "metadata": {},
   "outputs": [],
   "source": [
    "fig, ax = plt.subplots(figsize=(4, 4), dpi=100)\n",
    "ax.scatter(*ponto_inicial_final[0], color='green', s=visual_s)\n",
    "ax.scatter(*ponto_inicial_final[1], color='red', s=visual_s);\n",
    "salvar_fig_ax(fig, ax)"
   ]
  },
  {
   "cell_type": "code",
   "execution_count": 387,
   "id": "5a021bea",
   "metadata": {},
   "outputs": [],
   "source": [
    "fig, ax = abrir_fig_ax()\n",
    "\n",
    "centroids = []\n",
    "posicoes_centroides = []\n",
    "\n",
    "interacao_atual = 0\n",
    "paciencia_atual = 0\n",
    "\n",
    "def distancia_euclidiana(ponto1, ponto2):\n",
    "    x1, y1 = ponto1\n",
    "    x2, y2 = ponto2\n",
    "    return ((x2 - x1) ** 2 + (y2 - y1) ** 2) ** 0.5\n",
    "\n",
    "def verificar_distancia(x1, y1, x2, y2, raio_size) -> bool:\n",
    "    return distancia_euclidiana((x1, y1), (x2, y2)) < 2 * raio_size\n",
    "\n",
    "while len(centroids) < qtd_centroides and paciencia_atual < paciencia:\n",
    "\n",
    "    interacao_atual += 1\n",
    "    paciencia_atual += 1\n",
    "\n",
    "    x = random.randint(raio_size, tamanho[0] - raio_size)\n",
    "    y = random.randint(raio_size, tamanho[1] - raio_size)\n",
    "\n",
    "    if verificar_distancia(x, y, *ponto_inicial_final[0], raio_size):\n",
    "        # print(f'Ponto ({x}, {y}) está dentro da área de influência do ponto inicial.')\n",
    "        ...\n",
    "    elif verificar_distancia(x, y, *ponto_inicial_final[1], raio_size):\n",
    "        # print(f'Ponto ({x}, {y}) está dentro da área de influência do ponto final.')\n",
    "        ...\n",
    "    elif any(verificar_distancia(centroid[0], centroid[1], x, y, raio_size) for centroid in centroids):\n",
    "        # print(f'Ponto ({x}, {y}) está dentro da área de influência de um dos centroides já criados.')\n",
    "        ...\n",
    "    else:\n",
    "        _, posicao_circulo = inserir_circulo_img(ax, x, y, raio_size, visual_s, 'blue', 'black')\n",
    "        centroids.append((x, y))\n",
    "        posicoes_centroides.append(posicao_circulo)\n",
    "        paciencia_atual = 0\n",
    "    \n",
    "salvar_fig_ax(fig, ax)"
   ]
  },
  {
   "cell_type": "code",
   "execution_count": 388,
   "id": "dd039d2e",
   "metadata": {},
   "outputs": [
    {
     "data": {
      "text/plain": [
       "0"
      ]
     },
     "execution_count": 388,
     "metadata": {},
     "output_type": "execute_result"
    }
   ],
   "source": [
    "paciencia_atual"
   ]
  },
  {
   "cell_type": "code",
   "execution_count": 389,
   "id": "8f0e7df5",
   "metadata": {},
   "outputs": [
    {
     "name": "stdout",
     "output_type": "stream",
     "text": [
      "Coeficientes da reta entre (0, 0) e (1, 1): a = -1, b = 1, c = 0\n",
      "Equação da reta: -1x + 1y + 0 = 0\n",
      "Forma reduzida: y = 1.0x + 0.0\n"
     ]
    }
   ],
   "source": [
    "def coeficientes_reta(ponto_inicial, ponto_final):\n",
    "    \"\"\"\n",
    "    Calcula os coeficientes da equação da reta que passa pelos pontos iniciais e finais.\n",
    "    a -> coeficiente angular (inclinação)\n",
    "    b -> coeficiente linear (intercepto)\n",
    "    c -> termo constante\n",
    "\n",
    "    link do exemplo: https://www.todamateria.com.br/equacao-da-reta/\n",
    "    link da video aula: https://www.youtube.com/watch?v=9dhtGUPgekw\n",
    "\n",
    "    é possivel transformar a equação da reta na forma y = mx + b, onde m é o coeficiente angular e b é o coeficiente linear.\n",
    "    \n",
    "    p1 = (-1, 8)\n",
    "    p2 = (-5, -1)\n",
    "\n",
    "    exemplo: \n",
    "    a = 9\n",
    "    b = -4\n",
    "    c = 41\n",
    "    \"\"\"\n",
    "    \n",
    "    a = (ponto_inicial[1] - ponto_final[1])\n",
    "    b = (ponto_final[0] - ponto_inicial[0])\n",
    "    c = (ponto_final[1] * ponto_inicial[0]) - (ponto_final[0] * ponto_inicial[1])\n",
    "    return a, b, c\n",
    "\n",
    "A = (0, 0)\n",
    "B = (1, 1)\n",
    "a, b, c = coeficientes_reta(A, B)\n",
    "\n",
    "\n",
    "print(f\"Coeficientes da reta entre {A} e {B}: a = {a}, b = {b}, c = {c}\")\n",
    "print(f\"Equação da reta: {a}x + {b}y + {c} = 0\")\n",
    "print(f\"Forma reduzida: y = {-a/b}x + {-c/b}\")"
   ]
  },
  {
   "cell_type": "code",
   "execution_count": 390,
   "id": "ac4156ae",
   "metadata": {},
   "outputs": [
    {
     "name": "stdout",
     "output_type": "stream",
     "text": [
      "Distancia usando 0.0\n"
     ]
    }
   ],
   "source": [
    "def distancia_ponto_reta(novo_ponto, a, b, c):\n",
    "    \"\"\"\n",
    "    Calcula a distância do ponto (novo_ponto) à reta definida pelos coeficientes a, b e c.\n",
    "    A fórmula é dada por: |ax + by + c| / sqrt(a^2 + b^2)\n",
    "\n",
    "    Link exemplo: https://www.todamateria.com.br/distancia-entre-dois-pontos/\n",
    "    Link video aula: https://www.youtube.com/watch?v=FSfwY1fM4EI\n",
    "    \n",
    "    Por que não usar a formula: \n",
    "    '\n",
    "    distancia_x = x2 - x1\n",
    "    distancia_y = y2 - y1\n",
    "    distancia_euclidiana = (distancia_x ** 2 + distancia_y ** 2) ** 0.5\n",
    "    '\n",
    "\n",
    "    Motivo: \n",
    "    A fórmula da distância entre dois pontos é uma medida direta da distância euclidiana, \n",
    "    que é a mais comum em um espaço cartesiano. No entanto, quando se trata de calcular a distância de um ponto a uma linha,\n",
    "    a fórmula da linha é mais apropriada, pois leva em consideração a inclinação da linha e a posição do ponto em relação a ela.\n",
    "    \n",
    "    Falando de forma informal: \n",
    "    Eles medem coisas diferentes. A distância ponto-reta nunca vai ser a mesma que a distância entre dois pontos específicos, porque:\n",
    "    Uma compara ponto com ponto, A outra compara ponto com linha infinita.\n",
    "\n",
    "    \"\"\"\n",
    "    divisor = ((a**2 + b**2) ** 0.5)\n",
    "    if divisor == 0:\n",
    "        raise ZeroDivisionError(\"Não é uma reta válida, mas sim o plano inteiro ou um conjunto vazio logo não é possível calcular a distância.\")\n",
    "    return abs(a * novo_ponto[0] + b * novo_ponto[1] + c) / divisor\n",
    "\n",
    "print(f\"Distancia usando {distancia_ponto_reta((2, 2), *coeficientes_reta(A, B))}\")"
   ]
  },
  {
   "cell_type": "code",
   "execution_count": 391,
   "id": "83dbba62",
   "metadata": {},
   "outputs": [],
   "source": [
    "def projecao_no_segmento(p: tuple[int, int], a: int, b: int, c: int, p1: tuple[int, int], p2: tuple[int, int]) -> tuple[float, float] | None:\n",
    "    \"\"\"\n",
    "    Retorna a projeção ortogonal do ponto p sobre a reta definida por (a, b, c),\n",
    "    mas somente se a projeção cair dentro do segmento [p1, p2].\n",
    "    Caso contrário, retorna None.\n",
    "    \n",
    "    link aula: https://www.youtube.com/watch?v=fem35PVZjeA\n",
    "    link solução:  https://en.wikipedia.org/wiki/Distance_from_a_point_to_a_line\n",
    "    \n",
    "\n",
    "    oque é o denominador?\n",
    "    O denominador é a soma dos quadrados dos coeficientes a e b da reta.\n",
    "    Ele é usado para calcular as coordenadas da projeção ortogonal do ponto p na reta.\n",
    "    Se o denominador for zero, significa que a reta é vertical (ou seja, a = 0 e b = 0), e a projeção não pode ser calculada.\n",
    "    \n",
    "    Falando de forma leiga:\n",
    "    Estamos trabalhando com sombras, onde a reta é a superfície e o ponto p é a fonte de luz. A projeção ortogonal é a \"sombra\" do ponto p na reta.\n",
    "    Isso significa que estamos tentando encontrar o ponto na reta que está diretamente abaixo do ponto p, como se estivéssemos projetando a luz do ponto p na reta.\n",
    "    \"\"\"\n",
    "    x, y = p\n",
    "    denominador = a*a + b*b\n",
    "    if denominador == 0:\n",
    "        raise ValueError(\"Coeficientes inválidos para reta.\")\n",
    "\n",
    "    px = (b * (b*x - a*y) - a*c) / denominador\n",
    "    py = (a * (-b*x + a*y) - b*c) / denominador\n",
    "\n",
    "    # Verifica se a projeção está dentro do segmento\n",
    "    min_x, max_x = min(p1[0], p2[0]), max(p1[0], p2[0])\n",
    "    min_y, max_y = min(p1[1], p2[1]), max(p1[1], p2[1])\n",
    "\n",
    "    if abs(px - x) < 1e-9 and abs(py - y) < 1e-9:\n",
    "        return None\n",
    "\n",
    "    if min_x <= px <= max_x and min_y <= py <= max_y:\n",
    "        return px, py\n",
    "    return None\n"
   ]
  },
  {
   "cell_type": "code",
   "execution_count": 392,
   "id": "cf9c73bc",
   "metadata": {},
   "outputs": [],
   "source": [
    "def reta_entre_dois_pontos(centroids: list[tuple], novo_ponto: tuple[int, int], novo_destino: tuple[int, int]):\n",
    "  \"\"\"\n",
    "  Verifica se é possivel ter uma reta entre dois pontos sem que um centróide a intercepte.\n",
    "\n",
    "  \"\"\"\n",
    "  a, b, c = coeficientes_reta(novo_ponto, novo_destino)\n",
    "  for centroid in centroids:\n",
    "    \n",
    "    try:\n",
    "      distancia = distancia_ponto_reta(centroid, a, b, c)\n",
    "    except ZeroDivisionError:\n",
    "      return False\n",
    "    \n",
    "    if distancia < raio_size:\n",
    "        if (centroid[0] - novo_ponto[0]) * (novo_destino[1] - novo_ponto[1]) == (centroid[1] - novo_ponto[1]) * (novo_destino[0] - novo_ponto[0]):\n",
    "            # print(\"Centróide está na reta\")\n",
    "            return False\n",
    "\n",
    "        if projecao_no_segmento(centroid, a, b, c, novo_ponto, novo_destino):\n",
    "            # print(\"Centróide está na projeção da reta\")\n",
    "            return False\n",
    "\n",
    "  return True"
   ]
  },
  {
   "cell_type": "code",
   "execution_count": 393,
   "id": "88eee369",
   "metadata": {},
   "outputs": [],
   "source": [
    "retas = []\n",
    "\n",
    "todos_pontos = [ponto_inicial_final[0]]\n",
    "for x in range(len(posicoes_centroides)):\n",
    "    for y in range(len(posicoes_centroides[x])):\n",
    "        todos_pontos.append(posicoes_centroides[x][y])\n",
    "todos_pontos.append(ponto_inicial_final[1])\n",
    "\n",
    "for i in range(len(todos_pontos)):\n",
    "    for j in range(i+1, len(todos_pontos)):\n",
    "        if reta_entre_dois_pontos(centroids, todos_pontos[i], todos_pontos[j]):\n",
    "            retas.append((todos_pontos[i], todos_pontos[j]))"
   ]
  },
  {
   "cell_type": "code",
   "execution_count": 394,
   "id": "dd9aad61",
   "metadata": {},
   "outputs": [
    {
     "data": {
      "text/plain": [
       "[((66, 70), (66, 90), (56, 80), (76, 80)),\n",
       " ((41, 49), (41, 69), (31, 59), (51, 59)),\n",
       " ((84, 16), (84, 36), (74, 26), (94, 26)),\n",
       " ((86, 46), (86, 66), (76, 56), (96, 56)),\n",
       " ((55, 18), (55, 38), (45, 28), (65, 28)),\n",
       " ((16, 72), (16, 92), (6, 82), (26, 82)),\n",
       " ((22, 38), (22, 58), (12, 48), (32, 48)),\n",
       " ((47, 77), (47, 97), (37, 87), (57, 87)),\n",
       " ((67, 0), (67, 20), (57, 10), (77, 10)),\n",
       " ((25, 7), (25, 27), (15, 17), (35, 17))]"
      ]
     },
     "execution_count": 394,
     "metadata": {},
     "output_type": "execute_result"
    }
   ],
   "source": [
    "posicoes_centroides"
   ]
  },
  {
   "cell_type": "code",
   "execution_count": 395,
   "id": "0c29fbf4",
   "metadata": {},
   "outputs": [
    {
     "name": "stdout",
     "output_type": "stream",
     "text": [
      "Total de pontos: 42\n",
      "Total de retas criadas: 80\n"
     ]
    }
   ],
   "source": [
    "fig, ax = abrir_fig_ax()\n",
    "\n",
    "retas_desenhadas = []\n",
    "for reta in retas:\n",
    "    retas_desenhadas.append(ax.plot(*zip(*reta), color='black'))\n",
    "\n",
    "print(f\"Total de pontos: {len(todos_pontos)}\")\n",
    "print(f\"Total de retas criadas: {len(retas)}\")\n",
    "\n",
    "salvar_fig_ax(fig, ax)"
   ]
  },
  {
   "cell_type": "code",
   "execution_count": 396,
   "id": "b8fda5eb",
   "metadata": {},
   "outputs": [
    {
     "data": {
      "text/plain": [
       "[((0, 0), (16, 72)),\n",
       " ((0, 0), (6, 82)),\n",
       " ((0, 0), (22, 38)),\n",
       " ((0, 0), (12, 48)),\n",
       " ((0, 0), (67, 0)),\n",
       " ((0, 0), (57, 10)),\n",
       " ((0, 0), (25, 7)),\n",
       " ((0, 0), (15, 17)),\n",
       " ((66, 70), (41, 69)),\n",
       " ((66, 70), (51, 59)),\n",
       " ((66, 70), (84, 36)),\n",
       " ((66, 70), (74, 26)),\n",
       " ((66, 70), (86, 66)),\n",
       " ((66, 70), (76, 56)),\n",
       " ((66, 70), (55, 38)),\n",
       " ((66, 70), (65, 28)),\n",
       " ((66, 70), (67, 20)),\n",
       " ((66, 70), (25, 27)),\n",
       " ((66, 70), (35, 17)),\n",
       " ((66, 90), (100, 100)),\n",
       " ((56, 80), (41, 69)),\n",
       " ((56, 80), (51, 59)),\n",
       " ((56, 80), (55, 38)),\n",
       " ((76, 80), (86, 66)),\n",
       " ((76, 80), (76, 56)),\n",
       " ((76, 80), (100, 100)),\n",
       " ((41, 49), (84, 36)),\n",
       " ((41, 49), (55, 38)),\n",
       " ((41, 49), (45, 28)),\n",
       " ((41, 49), (32, 48)),\n",
       " ((41, 49), (25, 27)),\n",
       " ((41, 49), (35, 17)),\n",
       " ((41, 69), (16, 72)),\n",
       " ((41, 69), (26, 82)),\n",
       " ((41, 69), (47, 77)),\n",
       " ((31, 59), (16, 72)),\n",
       " ((31, 59), (26, 82)),\n",
       " ((31, 59), (22, 58)),\n",
       " ((51, 59), (84, 36)),\n",
       " ((51, 59), (74, 26)),\n",
       " ((51, 59), (76, 56)),\n",
       " ((51, 59), (55, 38)),\n",
       " ((84, 16), (77, 10)),\n",
       " ((84, 36), (86, 46)),\n",
       " ((84, 36), (32, 48)),\n",
       " ((84, 36), (47, 77)),\n",
       " ((74, 26), (65, 28)),\n",
       " ((74, 26), (47, 77)),\n",
       " ((74, 26), (67, 20)),\n",
       " ((94, 26), (100, 100)),\n",
       " ((86, 46), (55, 38)),\n",
       " ((86, 46), (65, 28)),\n",
       " ((86, 46), (67, 20)),\n",
       " ((86, 66), (16, 72)),\n",
       " ((86, 66), (100, 100)),\n",
       " ((76, 56), (55, 38)),\n",
       " ((76, 56), (65, 28)),\n",
       " ((76, 56), (26, 82)),\n",
       " ((76, 56), (47, 77)),\n",
       " ((76, 56), (67, 20)),\n",
       " ((76, 56), (25, 27)),\n",
       " ((96, 56), (100, 100)),\n",
       " ((55, 18), (57, 10)),\n",
       " ((55, 18), (35, 17)),\n",
       " ((55, 38), (22, 38)),\n",
       " ((55, 38), (32, 48)),\n",
       " ((55, 38), (100, 100)),\n",
       " ((45, 28), (22, 38)),\n",
       " ((45, 28), (32, 48)),\n",
       " ((45, 28), (25, 27)),\n",
       " ((45, 28), (35, 17)),\n",
       " ((65, 28), (67, 20)),\n",
       " ((16, 72), (22, 58)),\n",
       " ((26, 82), (37, 87)),\n",
       " ((22, 38), (57, 10)),\n",
       " ((22, 38), (25, 27)),\n",
       " ((22, 58), (47, 77)),\n",
       " ((22, 58), (37, 87)),\n",
       " ((47, 97), (100, 100)),\n",
       " ((57, 10), (35, 17)),\n",
       " ((66, 70), (56, 80)),\n",
       " ((56, 80), (66, 70)),\n",
       " ((66, 70), (76, 80)),\n",
       " ((76, 80), (66, 70)),\n",
       " ((66, 90), (56, 80)),\n",
       " ((56, 80), (66, 90)),\n",
       " ((66, 90), (76, 80)),\n",
       " ((76, 80), (66, 90)),\n",
       " ((41, 49), (31, 59)),\n",
       " ((31, 59), (41, 49)),\n",
       " ((41, 49), (51, 59)),\n",
       " ((51, 59), (41, 49)),\n",
       " ((41, 69), (31, 59)),\n",
       " ((31, 59), (41, 69)),\n",
       " ((41, 69), (51, 59)),\n",
       " ((51, 59), (41, 69)),\n",
       " ((84, 16), (74, 26)),\n",
       " ((74, 26), (84, 16)),\n",
       " ((84, 16), (94, 26)),\n",
       " ((94, 26), (84, 16)),\n",
       " ((84, 36), (74, 26)),\n",
       " ((74, 26), (84, 36)),\n",
       " ((84, 36), (94, 26)),\n",
       " ((94, 26), (84, 36)),\n",
       " ((86, 46), (76, 56)),\n",
       " ((76, 56), (86, 46)),\n",
       " ((86, 46), (96, 56)),\n",
       " ((96, 56), (86, 46)),\n",
       " ((86, 66), (76, 56)),\n",
       " ((76, 56), (86, 66)),\n",
       " ((86, 66), (96, 56)),\n",
       " ((96, 56), (86, 66)),\n",
       " ((55, 18), (45, 28)),\n",
       " ((45, 28), (55, 18)),\n",
       " ((55, 18), (65, 28)),\n",
       " ((65, 28), (55, 18)),\n",
       " ((55, 38), (45, 28)),\n",
       " ((45, 28), (55, 38)),\n",
       " ((55, 38), (65, 28)),\n",
       " ((65, 28), (55, 38)),\n",
       " ((16, 72), (6, 82)),\n",
       " ((6, 82), (16, 72)),\n",
       " ((16, 72), (26, 82)),\n",
       " ((26, 82), (16, 72)),\n",
       " ((16, 92), (6, 82)),\n",
       " ((6, 82), (16, 92)),\n",
       " ((16, 92), (26, 82)),\n",
       " ((26, 82), (16, 92)),\n",
       " ((22, 38), (12, 48)),\n",
       " ((12, 48), (22, 38)),\n",
       " ((22, 38), (32, 48)),\n",
       " ((32, 48), (22, 38)),\n",
       " ((22, 58), (12, 48)),\n",
       " ((12, 48), (22, 58)),\n",
       " ((22, 58), (32, 48)),\n",
       " ((32, 48), (22, 58)),\n",
       " ((47, 77), (37, 87)),\n",
       " ((37, 87), (47, 77)),\n",
       " ((47, 77), (57, 87)),\n",
       " ((57, 87), (47, 77)),\n",
       " ((47, 97), (37, 87)),\n",
       " ((37, 87), (47, 97)),\n",
       " ((47, 97), (57, 87)),\n",
       " ((57, 87), (47, 97)),\n",
       " ((67, 0), (57, 10)),\n",
       " ((57, 10), (67, 0)),\n",
       " ((67, 0), (77, 10)),\n",
       " ((77, 10), (67, 0)),\n",
       " ((67, 20), (57, 10)),\n",
       " ((57, 10), (67, 20)),\n",
       " ((67, 20), (77, 10)),\n",
       " ((77, 10), (67, 20)),\n",
       " ((25, 7), (15, 17)),\n",
       " ((15, 17), (25, 7)),\n",
       " ((25, 7), (35, 17)),\n",
       " ((35, 17), (25, 7)),\n",
       " ((25, 27), (15, 17)),\n",
       " ((15, 17), (25, 27)),\n",
       " ((25, 27), (35, 17)),\n",
       " ((35, 17), (25, 27))]"
      ]
     },
     "execution_count": 396,
     "metadata": {},
     "output_type": "execute_result"
    }
   ],
   "source": [
    "for (cima, baixo, esq, dir) in posicoes_centroides:\n",
    "    retas.append((cima, esq))\n",
    "    retas.append((esq, cima))\n",
    "    retas.append((cima, dir))\n",
    "    retas.append((dir, cima))\n",
    "    retas.append((baixo, esq))\n",
    "    retas.append((esq, baixo))\n",
    "    retas.append((baixo, dir))\n",
    "    retas.append((dir, baixo))\n",
    "retas"
   ]
  },
  {
   "cell_type": "code",
   "execution_count": 397,
   "id": "b1b907ec",
   "metadata": {},
   "outputs": [
    {
     "name": "stdout",
     "output_type": "stream",
     "text": [
      "Reta: (0, 0), Pontos: {(6, 82), (15, 17), (67, 0), (57, 10), (12, 48), (16, 72), (25, 7), (22, 38)}\n",
      "Reta: (16, 72), Pontos: {(41, 69), (86, 66), (6, 82), (31, 59), (0, 0), (22, 58), (26, 82)}\n",
      "Reta: (6, 82), Pontos: {(16, 92), (16, 72), (0, 0)}\n",
      "Reta: (22, 38), Pontos: {(0, 0), (57, 10), (12, 48), (45, 28), (25, 27), (32, 48), (55, 38)}\n",
      "Reta: (12, 48), Pontos: {(22, 58), (22, 38), (0, 0)}\n",
      "Reta: (67, 0), Pontos: {(77, 10), (57, 10), (0, 0)}\n",
      "Reta: (57, 10), Pontos: {(55, 18), (67, 20), (35, 17), (0, 0), (67, 0), (22, 38)}\n",
      "Reta: (25, 7), Pontos: {(15, 17), (35, 17), (0, 0)}\n",
      "Reta: (15, 17), Pontos: {(25, 7), (25, 27), (0, 0)}\n",
      "Reta: (66, 70), Pontos: {(41, 69), (86, 66), (67, 20), (76, 56), (35, 17), (84, 36), (65, 28), (74, 26), (56, 80), (51, 59), (25, 27), (55, 38), (76, 80)}\n",
      "Reta: (41, 69), Pontos: {(31, 59), (66, 70), (47, 77), (56, 80), (51, 59), (16, 72), (26, 82)}\n",
      "Reta: (51, 59), Pontos: {(41, 69), (76, 56), (41, 49), (84, 36), (74, 26), (66, 70), (56, 80), (55, 38)}\n",
      "Reta: (84, 36), Pontos: {(86, 46), (41, 49), (94, 26), (66, 70), (47, 77), (51, 59), (74, 26), (32, 48)}\n",
      "Reta: (74, 26), Pontos: {(67, 20), (84, 36), (66, 70), (47, 77), (51, 59), (84, 16), (65, 28)}\n",
      "Reta: (86, 66), Pontos: {(96, 56), (76, 56), (100, 100), (66, 70), (76, 80), (16, 72)}\n",
      "Reta: (76, 56), Pontos: {(67, 20), (86, 66), (86, 46), (66, 70), (47, 77), (51, 59), (55, 38), (76, 80), (25, 27), (65, 28), (26, 82)}\n",
      "Reta: (55, 38), Pontos: {(86, 46), (41, 49), (76, 56), (100, 100), (66, 70), (56, 80), (51, 59), (45, 28), (32, 48), (22, 38), (65, 28)}\n",
      "Reta: (65, 28), Pontos: {(67, 20), (55, 18), (86, 46), (76, 56), (74, 26), (66, 70), (55, 38)}\n",
      "Reta: (67, 20), Pontos: {(86, 46), (76, 56), (57, 10), (74, 26), (66, 70), (77, 10), (65, 28)}\n",
      "Reta: (25, 27), Pontos: {(41, 49), (76, 56), (35, 17), (15, 17), (66, 70), (45, 28), (22, 38)}\n",
      "Reta: (35, 17), Pontos: {(55, 18), (41, 49), (57, 10), (66, 70), (45, 28), (25, 27), (25, 7)}\n",
      "Reta: (66, 90), Pontos: {(100, 100), (56, 80), (76, 80)}\n",
      "Reta: (100, 100), Pontos: {(86, 66), (96, 56), (94, 26), (66, 90), (47, 97), (76, 80), (55, 38)}\n",
      "Reta: (56, 80), Pontos: {(41, 69), (66, 90), (66, 70), (51, 59), (55, 38)}\n",
      "Reta: (76, 80), Pontos: {(86, 66), (76, 56), (66, 90), (100, 100), (66, 70)}\n",
      "Reta: (41, 49), Pontos: {(35, 17), (31, 59), (84, 36), (51, 59), (45, 28), (25, 27), (32, 48), (55, 38)}\n",
      "Reta: (45, 28), Pontos: {(55, 18), (35, 17), (41, 49), (25, 27), (32, 48), (22, 38), (55, 38)}\n",
      "Reta: (32, 48), Pontos: {(41, 49), (84, 36), (22, 58), (45, 28), (22, 38), (55, 38)}\n",
      "Reta: (26, 82), Pontos: {(37, 87), (41, 69), (76, 56), (31, 59), (16, 92), (16, 72)}\n",
      "Reta: (47, 77), Pontos: {(37, 87), (41, 69), (76, 56), (84, 36), (57, 87), (74, 26), (22, 58)}\n",
      "Reta: (31, 59), Pontos: {(41, 69), (41, 49), (22, 58), (16, 72), (26, 82)}\n",
      "Reta: (22, 58), Pontos: {(37, 87), (31, 59), (47, 77), (12, 48), (32, 48), (16, 72)}\n",
      "Reta: (84, 16), Pontos: {(94, 26), (74, 26), (77, 10)}\n",
      "Reta: (77, 10), Pontos: {(67, 20), (67, 0), (84, 16)}\n",
      "Reta: (86, 46), Pontos: {(67, 20), (96, 56), (76, 56), (84, 36), (55, 38), (65, 28)}\n",
      "Reta: (94, 26), Pontos: {(84, 36), (100, 100), (84, 16)}\n",
      "Reta: (96, 56), Pontos: {(86, 66), (100, 100), (86, 46)}\n",
      "Reta: (55, 18), Pontos: {(65, 28), (45, 28), (57, 10), (35, 17)}\n",
      "Reta: (37, 87), Pontos: {(22, 58), (47, 97), (47, 77), (26, 82)}\n",
      "Reta: (47, 97), Pontos: {(37, 87), (57, 87), (100, 100)}\n",
      "Reta: (16, 92), Pontos: {(6, 82), (26, 82)}\n",
      "Reta: (57, 87), Pontos: {(47, 97), (47, 77)}\n"
     ]
    }
   ],
   "source": [
    "pontos_unicos = {}\n",
    "for reta in retas:\n",
    "  pontos_unicos.setdefault(reta[0], set()).add(reta[1])\n",
    "  pontos_unicos.setdefault(reta[1], set()).add(reta[0])\n",
    "\n",
    "for key, value in pontos_unicos.items():\n",
    "  print(f\"Reta: {key}, Pontos: {value}\")"
   ]
  },
  {
   "cell_type": "code",
   "execution_count": 398,
   "id": "81710c4c",
   "metadata": {},
   "outputs": [
    {
     "data": {
      "text/plain": [
       "True"
      ]
     },
     "execution_count": 398,
     "metadata": {},
     "output_type": "execute_result"
    }
   ],
   "source": [
    "ponto_inicial = ponto_inicial_final[0]\n",
    "ponto_final = ponto_inicial_final[1]\n",
    "possibilidade_atual = pontos_unicos[ponto_inicial]\n",
    "\n",
    "def encontrar_possibilidades(ponto_atual, ponto_final, pilha=[]):\n",
    "    if ponto_atual in pilha:\n",
    "        return False\n",
    "    pilha.append(ponto_atual)\n",
    "\n",
    "    if ponto_atual == ponto_final:\n",
    "        return True\n",
    "\n",
    "    for prox_ponto in pontos_unicos.get(ponto_atual, []):\n",
    "        if encontrar_possibilidades(prox_ponto, ponto_final, pilha):\n",
    "            return True\n",
    "\n",
    "    pilha.pop()\n",
    "    return False\n",
    "\n",
    "pilha = []\n",
    "encontrar_possibilidades(ponto_inicial, ponto_final, pilha)"
   ]
  },
  {
   "cell_type": "code",
   "execution_count": 399,
   "id": "1d63ad80",
   "metadata": {},
   "outputs": [],
   "source": [
    "def ponto_mesmo_centroid(ponto1, ponto2, centroids, raio_size):\n",
    "    centroid_ponto = None\n",
    "    for i, centroid in enumerate(centroids):\n",
    "        if distancia_euclidiana(ponto1, centroid) <= raio_size and distancia_euclidiana(ponto2, centroid) <= raio_size:\n",
    "            centroid_ponto = i\n",
    "            break\n",
    "\n",
    "    return (True, centroids[centroid_ponto]) if centroid_ponto is not None else (False, None)"
   ]
  },
  {
   "cell_type": "code",
   "execution_count": 400,
   "id": "ea550d30",
   "metadata": {},
   "outputs": [],
   "source": [
    "fig, ax = abrir_fig_ax()\n",
    "for i in range(len(pilha) - 1):\n",
    "    ponto1 = pilha[i]\n",
    "    ponto2 = pilha[i + 1]\n",
    "\n",
    "    mesmo_centro, centroid = ponto_mesmo_centroid(ponto1, ponto2, centroids, raio_size)\n",
    "    if mesmo_centro:\n",
    "        angulo1 = np.degrees(np.arctan2(ponto1[1] - centroid[1], ponto1[0] - centroid[0]))\n",
    "        angulo2 = np.degrees(np.arctan2(ponto2[1] - centroid[1], ponto2[0] - centroid[0]))\n",
    "        arco = Arc(centroid, width=2*raio_size, height=2*raio_size, theta1=angulo2, theta2=angulo1, color=\"green\", linewidth=2)\n",
    "        ax.add_patch(arco)\n",
    "        \n",
    "        # ax.plot([ponto1[0], ponto2[0]], [ponto1[1], ponto2[1]], color='red', linewidth=2)\n",
    "        \n",
    "        # fig.waitforbuttonpress()\n",
    "    else:\n",
    "        ax.plot([ponto1[0], ponto2[0]], [ponto1[1], ponto2[1]], color='red', linewidth=2)"
   ]
  }
 ],
 "metadata": {
  "kernelspec": {
   "display_name": ".venv (3.13.5)",
   "language": "python",
   "name": "python3"
  },
  "language_info": {
   "codemirror_mode": {
    "name": "ipython",
    "version": 3
   },
   "file_extension": ".py",
   "mimetype": "text/x-python",
   "name": "python",
   "nbconvert_exporter": "python",
   "pygments_lexer": "ipython3",
   "version": "3.13.5"
  }
 },
 "nbformat": 4,
 "nbformat_minor": 5
}
